{
 "cells": [
  {
   "cell_type": "markdown",
   "metadata": {},
   "source": [
    "# Introduction"
   ]
  },
  {
   "cell_type": "markdown",
   "metadata": {},
   "source": [
    "### Riyadh, my hometown, is the capital city of Saudi Arabia and its the third-largest city in the Arab world and the 39th-largest in Asia. Riyadh is the political and administrative center of Saudi Arabia and is the headquarters of the country's central government bodies, such as the Saudi Royal Court and the Council of Ministers of Saudi Arabia. \n",
    "\n",
    "### Riyadh is of great economic importance, as it is the headquarters of many banks and major companies. It is also the location of the King Abdullah Financial District, one of the world's largest financial centers.  "
   ]
  },
  {
   "cell_type": "markdown",
   "metadata": {},
   "source": [
    "# Business Problem¶"
   ]
  },
  {
   "cell_type": "markdown",
   "metadata": {},
   "source": [
    "### My report is for those who are want to move for a new home or apartment in the city of Riyadh, Saudi Arabia, I will provide a suggestion on what would be the best districts in specifically in north of Riyadh and Comparison between them in terms of near venues within 2 km.\n",
    "\n",
    "### most of the luxury or fancy districts are in the north of the city so if someone thinks to move there it will be kind of confusion of how he should decide that decision. so this report will help this kind of people to compare between each one based on their interests and favorites venues "
   ]
  },
  {
   "cell_type": "markdown",
   "metadata": {},
   "source": [
    "# the data "
   ]
  },
  {
   "cell_type": "markdown",
   "metadata": {},
   "source": [
    "### the data that I have been used are actually gathered manually since I didn't find any dataset or website that provide a list of the neighborhoods and the coordinates of them. so I collect a list of the northern districts and find the coordinates using google "
   ]
  },
  {
   "cell_type": "code",
   "execution_count": null,
   "metadata": {},
   "outputs": [],
   "source": []
  }
 ],
 "metadata": {
  "kernelspec": {
   "display_name": "Python 3",
   "language": "python",
   "name": "python3"
  },
  "language_info": {
   "codemirror_mode": {
    "name": "ipython",
    "version": 3
   },
   "file_extension": ".py",
   "mimetype": "text/x-python",
   "name": "python",
   "nbconvert_exporter": "python",
   "pygments_lexer": "ipython3",
   "version": "3.7.3"
  }
 },
 "nbformat": 4,
 "nbformat_minor": 2
}
